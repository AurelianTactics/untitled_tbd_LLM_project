{
 "cells": [
  {
   "cell_type": "code",
   "execution_count": 1,
   "metadata": {},
   "outputs": [
    {
     "data": {
      "text/plain": [
       "'\\nDoing some simple early prototyping to better understand the work flow and where to add\\n\\nworking\\nload the llm\\nhook up the path. stopped in main\\n'"
      ]
     },
     "execution_count": 1,
     "metadata": {},
     "output_type": "execute_result"
    }
   ],
   "source": [
    "'''\n",
    "Doing some simple early prototyping to better understand the work flow and where to add\n",
    "\n",
    "working\n",
    "load the llm\n",
    "hook up the path. stopped in main\n",
    "'''"
   ]
  },
  {
   "cell_type": "code",
   "execution_count": 1,
   "metadata": {},
   "outputs": [],
   "source": [
    "import utils.prompt_utils as prompt_utils\n",
    "import utils.prototype_embedding_utils as prototype_embedding_utils\n",
    "import utils.prototype_llm_utils as prototype_llm_utils\n",
    "from langchain_core.output_parsers import StrOutputParser\n",
    "from langchain_core.runnables import RunnablePassthrough\n",
    "import os\n",
    "\n",
    "# import importlib\n",
    "\n",
    "# # Reload the module\n",
    "# importlib.reload(module_name)"
   ]
  },
  {
   "cell_type": "code",
   "execution_count": 3,
   "metadata": {},
   "outputs": [],
   "source": [
    "def format_docs(docs):\n",
    "    return \"\\n\\n\".join(doc.page_content for doc in docs)"
   ]
  },
  {
   "cell_type": "code",
   "execution_count": 4,
   "metadata": {},
   "outputs": [],
   "source": [
    "def create_basic_chain():\n",
    "    sample_dataset_file_path = os.path.join(os.getcwd(), 'prototype_data', 'ignored', 'little_women_example.txt')\n",
    "    retriever = prototype_embedding_utils.run_orchestrator_prototype(sample_dataset_file_path)\n",
    "    prompt = prompt_utils.get_hub_prompt()\n",
    "    llm = prototype_llm_utils.get_llm()\n",
    "\n",
    "    rag_chain = (\n",
    "            {\"context\": retriever | format_docs, \"question\": RunnablePassthrough()}\n",
    "            | prompt\n",
    "            | llm\n",
    "            | StrOutputParser()\n",
    "        )\n",
    "\n",
    "    return rag_chain\n"
   ]
  },
  {
   "cell_type": "code",
   "execution_count": 5,
   "metadata": {},
   "outputs": [],
   "source": [
    "test_chain = create_basic_chain()"
   ]
  },
  {
   "cell_type": "code",
   "execution_count": 6,
   "metadata": {},
   "outputs": [
    {
     "name": "stdout",
     "output_type": "stream",
     "text": [
      "I don't know."
     ]
    }
   ],
   "source": [
    "for chunk in test_chain.stream(\"What is the weather in Greenland today?\"):\n",
    "    print(chunk, end=\"\", flush=True)"
   ]
  },
  {
   "cell_type": "code",
   "execution_count": 7,
   "metadata": {},
   "outputs": [
    {
     "name": "stdout",
     "output_type": "stream",
     "text": [
      "Beth's sisters are Meg, Jo, and Amy."
     ]
    }
   ],
   "source": [
    "for chunk in test_chain.stream(\"Who are Beth's sisters?\"):\n",
    "    print(chunk, end=\"\", flush=True)"
   ]
  },
  {
   "cell_type": "code",
   "execution_count": 15,
   "metadata": {},
   "outputs": [],
   "source": [
    "# LLM seems the same\n",
    "# from langchain_openai import ChatOpenAI\n",
    "\n",
    "# llm = prototype_llm_utils.get_llm()\n",
    "# print(llm)\n",
    "\n",
    "# llm2 = ChatOpenAI(model_name=\"gpt-3.5-turbo\", temperature=0)\n",
    "# # def get_llm(model_name='gpt-3.5-turbo'):\n",
    "# #     '''\n",
    "# #     Obvious to dos here\n",
    "# #     '''\n",
    "# #     llm = ChatOpenAI(model_name=model_name, temperature=0)\n",
    "\n",
    "# #     return llm\n",
    "\n",
    "# print(llm)\n",
    "# print(llm2)"
   ]
  },
  {
   "cell_type": "code",
   "execution_count": null,
   "metadata": {},
   "outputs": [],
   "source": [
    "import importlib\n",
    "\n",
    "# Reload the module\n",
    "importlib.reload(module_name)\n",
    "\n",
    "# Import the reloaded module\n",
    "import module_name\n"
   ]
  }
 ],
 "metadata": {
  "kernelspec": {
   "display_name": ".venv",
   "language": "python",
   "name": "python3"
  },
  "language_info": {
   "codemirror_mode": {
    "name": "ipython",
    "version": 3
   },
   "file_extension": ".py",
   "mimetype": "text/x-python",
   "name": "python",
   "nbconvert_exporter": "python",
   "pygments_lexer": "ipython3",
   "version": "3.9.9"
  }
 },
 "nbformat": 4,
 "nbformat_minor": 2
}
