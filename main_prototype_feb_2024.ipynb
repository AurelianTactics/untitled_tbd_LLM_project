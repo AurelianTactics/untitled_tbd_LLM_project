{
 "cells": [
  {
   "cell_type": "code",
   "execution_count": null,
   "metadata": {},
   "outputs": [],
   "source": [
    "'''\n",
    "Doing some simple early prototyping to better understand the work flow and where to add\n",
    "\n",
    "working\n",
    "load the llm\n",
    "hook up the path. stopped in main\n",
    "'''"
   ]
  },
  {
   "cell_type": "code",
   "execution_count": 9,
   "metadata": {},
   "outputs": [],
   "source": [
    "import utils.prompt_utils as prompt_utils\n",
    "import utils.prototype_embedding_utils as prototype_embedding_utils\n",
    "import utils.prototype_llm_utils as prototype_llm_utils\n",
    "import os\n"
   ]
  },
  {
   "cell_type": "code",
   "execution_count": null,
   "metadata": {},
   "outputs": [],
   "source": [
    "def main():\n",
    "    sample_dataset_file_path = os.path.join(os.getcwd(), 'prototype_data', 'ignored', 'little_women_example.txt')\n",
    "    retriever = prototype_embedding_utils.run_orchestrator_prototype(sample_dataset_file_path)\n",
    "    prompt = prompt_utils.get_hub_prompt()"
   ]
  },
  {
   "cell_type": "code",
   "execution_count": null,
   "metadata": {},
   "outputs": [],
   "source": []
  }
 ],
 "metadata": {
  "kernelspec": {
   "display_name": ".venv",
   "language": "python",
   "name": "python3"
  },
  "language_info": {
   "codemirror_mode": {
    "name": "ipython",
    "version": 3
   },
   "file_extension": ".py",
   "mimetype": "text/x-python",
   "name": "python",
   "nbconvert_exporter": "python",
   "pygments_lexer": "ipython3",
   "version": "3.9.9"
  }
 },
 "nbformat": 4,
 "nbformat_minor": 2
}
