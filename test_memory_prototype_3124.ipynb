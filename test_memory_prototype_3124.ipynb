{
 "cells": [
  {
   "cell_type": "code",
   "execution_count": null,
   "metadata": {},
   "outputs": [],
   "source": [
    "'''\n",
    "Doing some simple early prototyping to better understand the work flow and where to add\n",
    "\n",
    "memory addition is pretty meh, need to try something better\n",
    "'''"
   ]
  },
  {
   "cell_type": "code",
   "execution_count": null,
   "metadata": {},
   "outputs": [],
   "source": [
    "import utils.prompt_utils as prompt_utils\n",
    "import utils.prototype_embedding_utils as prototype_embedding_utils\n",
    "import utils.prototype_llm_utils as prototype_llm_utils\n",
    "from langchain_core.output_parsers import StrOutputParser\n",
    "from langchain_core.runnables import RunnablePassthrough\n",
    "import os\n",
    "\n",
    "\n",
    "# import importlib\n",
    "\n",
    "# # Reload the module\n",
    "# importlib.reload(module_name)"
   ]
  },
  {
   "cell_type": "code",
   "execution_count": null,
   "metadata": {},
   "outputs": [],
   "source": [
    "def format_docs(docs):\n",
    "    return \"\\n\\n\".join(doc.page_content for doc in docs)"
   ]
  },
  {
   "cell_type": "code",
   "execution_count": null,
   "metadata": {},
   "outputs": [],
   "source": [
    "from operator import itemgetter\n",
    "from langchain_core.runnables import RunnableLambda\n",
    "from langchain.memory import ConversationBufferMemory"
   ]
  },
  {
   "cell_type": "code",
   "execution_count": null,
   "metadata": {},
   "outputs": [],
   "source": []
  },
  {
   "cell_type": "code",
   "execution_count": null,
   "metadata": {},
   "outputs": [],
   "source": [
    "def create_basic_chain():\n",
    "    memory = ConversationBufferMemory(\n",
    "        return_messages=True, output_key=\"answer\", input_key=\"question\"\n",
    "    )\n",
    "    loaded_memory = RunnablePassthrough.assign(\n",
    "        chat_history=RunnableLambda(memory.load_memory_variables) | itemgetter(\"history\"),\n",
    "    )\n",
    "    sample_dataset_file_path = os.path.join(os.getcwd(), 'prototype_data', 'ignored', 'little_women_example.txt')\n",
    "    retriever = prototype_embedding_utils.run_orchestrator_prototype(sample_dataset_file_path)\n",
    "    prompt = prompt_utils.get_hub_prompt()\n",
    "    llm = prototype_llm_utils.get_llm()\n",
    "\n",
    "    rag_chain = (\n",
    "            {\"context\": retriever | format_docs, \"question\": RunnablePassthrough()}\n",
    "            | loaded_memory\n",
    "            | prompt\n",
    "            | llm\n",
    "            | StrOutputParser()\n",
    "        )\n",
    "\n",
    "    return rag_chain, memory\n"
   ]
  },
  {
   "cell_type": "code",
   "execution_count": null,
   "metadata": {},
   "outputs": [],
   "source": [
    "test_chain, test_memory = create_basic_chain()"
   ]
  },
  {
   "cell_type": "code",
   "execution_count": null,
   "metadata": {},
   "outputs": [],
   "source": [
    "for chunk in test_chain.stream(\"What is the weather in Greenland today?\"):\n",
    "    print(chunk, end=\"\", flush=True)"
   ]
  },
  {
   "cell_type": "code",
   "execution_count": null,
   "metadata": {},
   "outputs": [],
   "source": [
    "for chunk in test_chain.stream(\"Who are Beth's sisters?\"):\n",
    "    print(chunk, end=\"\", flush=True)"
   ]
  },
  {
   "cell_type": "code",
   "execution_count": null,
   "metadata": {},
   "outputs": [],
   "source": [
    "test_memory.save_context({\"question\":\"Who are Beth's sisters?\"}, {\"answer\": \"Beth's sisters are Meg, Jo, and Amy.\"})\n",
    "test_memory.load_memory_variables({})\n",
    "\n"
   ]
  },
  {
   "cell_type": "code",
   "execution_count": null,
   "metadata": {},
   "outputs": [],
   "source": [
    "for chunk in test_chain.stream(\"Who did I just ask about?\"):\n",
    "    print(chunk, end=\"\", flush=True)"
   ]
  },
  {
   "cell_type": "code",
   "execution_count": null,
   "metadata": {},
   "outputs": [],
   "source": [
    "# LLM seems the same\n",
    "# from langchain_openai import ChatOpenAI\n",
    "\n",
    "# llm = prototype_llm_utils.get_llm()\n",
    "# print(llm)\n",
    "\n",
    "# llm2 = ChatOpenAI(model_name=\"gpt-3.5-turbo\", temperature=0)\n",
    "# # def get_llm(model_name='gpt-3.5-turbo'):\n",
    "# #     '''\n",
    "# #     Obvious to dos here\n",
    "# #     '''\n",
    "# #     llm = ChatOpenAI(model_name=model_name, temperature=0)\n",
    "\n",
    "# #     return llm\n",
    "\n",
    "# print(llm)\n",
    "# print(llm2)"
   ]
  },
  {
   "cell_type": "code",
   "execution_count": null,
   "metadata": {},
   "outputs": [],
   "source": [
    "import importlib\n",
    "\n",
    "# Reload the module\n",
    "importlib.reload(module_name)\n",
    "\n",
    "# Import the reloaded module\n",
    "import module_name\n"
   ]
  }
 ],
 "metadata": {
  "kernelspec": {
   "display_name": ".venv",
   "language": "python",
   "name": "python3"
  },
  "language_info": {
   "codemirror_mode": {
    "name": "ipython",
    "version": 3
   },
   "file_extension": ".py",
   "mimetype": "text/x-python",
   "name": "python",
   "nbconvert_exporter": "python",
   "pygments_lexer": "ipython3",
   "version": "3.9.9"
  }
 },
 "nbformat": 4,
 "nbformat_minor": 2
}
