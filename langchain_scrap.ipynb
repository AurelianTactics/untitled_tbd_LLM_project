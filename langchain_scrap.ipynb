{
 "cells": [
  {
   "cell_type": "code",
   "execution_count": 12,
   "metadata": {},
   "outputs": [],
   "source": [
    "import wandb\n",
    "from types import SimpleNamespace\n",
    "import yaml\n",
    "#import openai\n",
    "from openai import OpenAI, AsyncOpenAI\n",
    "import os\n",
    "import json\n",
    "import pydantic\n",
    "from langchain.prompts import ChatPromptTemplate\n",
    "\n",
    "from langchain_openai import ChatOpenAI, OpenAIEmbeddings\n",
    "from langchain_community.vectorstores import DocArrayInMemorySearch\n",
    "from langchain.schema.output_parser import StrOutputParser\n",
    "from langchain.embeddings import OpenAIEmbeddings\n",
    "from langchain.vectorstores import DocArrayInMemorySearch\n",
    "from langchain.schema.runnable import RunnableMap\n"
   ]
  },
  {
   "cell_type": "code",
   "execution_count": 2,
   "metadata": {},
   "outputs": [],
   "source": [
    "# to do\n",
    "# work with some up-to-date langchain models\n",
    "# retriever\n",
    "# add prompt template\n",
    "# add output parser\n",
    "# add batch / streaming\n",
    "# memory buffering"
   ]
  },
  {
   "cell_type": "code",
   "execution_count": 3,
   "metadata": {},
   "outputs": [],
   "source": [
    "wandb_key = os.environ['WANDB_API_KEY']\n",
    "openai_key = os.environ['OPENAI_API_KEY']\n",
    "\n",
    "project_name = 'untitled_llm_project_test'\n",
    "\n",
    "#openai.api_key = openai_key"
   ]
  },
  {
   "cell_type": "markdown",
   "metadata": {},
   "source": [
    "### Basic LangChain Example"
   ]
  },
  {
   "cell_type": "code",
   "execution_count": 4,
   "metadata": {},
   "outputs": [
    {
     "data": {
      "text/plain": [
       "\"Why don't bears wear shoes? \\n\\nBecause they have bear feet!\""
      ]
     },
     "execution_count": 4,
     "metadata": {},
     "output_type": "execute_result"
    }
   ],
   "source": [
    "# simple chain\n",
    "\n",
    "prompt = ChatPromptTemplate.from_template(\n",
    "    \"tell me a short joke about {topic}\"\n",
    ")\n",
    "model = ChatOpenAI()\n",
    "output_parser = StrOutputParser()\n",
    "\n",
    "chain = prompt | model | output_parser\n",
    "\n",
    "chain.invoke({\"topic\": \"bears\"})"
   ]
  },
  {
   "cell_type": "code",
   "execution_count": 30,
   "metadata": {},
   "outputs": [],
   "source": [
    "# # user supplied inputs\n",
    "# # not sure what is going on here\n",
    "\n",
    "# vectorstore = DocArrayInMemorySearch.from_texts(\n",
    "#     [\"the sun is bright\", \"bears like to eat honey\"],\n",
    "#     embedding=OpenAIEmbeddings()\n",
    "# )\n",
    "# retriever = vectorstore.as_retriever()\n",
    "\n",
    "# #retriever.get_relevant_documents(\"what do bears like to eat\")\n",
    "# retriever.get_relevant_documents(query=\"what do bears like to eat\", metadata={}, tags={})\n",
    "\n"
   ]
  },
  {
   "cell_type": "code",
   "execution_count": 27,
   "metadata": {},
   "outputs": [],
   "source": [
    "# not sure what is going on here\n",
    "# template = \"\"\"Answer the question based only on the following context:\n",
    "# {context}\n",
    "\n",
    "# Question: {question}\n",
    "# \"\"\"\n",
    "# prompt = ChatPromptTemplate.from_template(template)\n",
    "\n",
    "# chain = RunnableMap({\n",
    "#     \"context\": lambda x: retriever.get_relevant_documents(x[\"question\"]),\n",
    "#     \"question\": lambda x: x[\"question\"]\n",
    "# }) | prompt | model | output_parser\n",
    "\n",
    "# chain.invoke({\"question\": \"what do bears like to eat?\"})\n",
    "\n",
    "# inputs = RunnableMap({\n",
    "#     \"context\": lambda x: retriever.get_relevant_documents(x[\"question\"]),\n",
    "#     \"question\": lambda x: x[\"question\"]\n",
    "# })\n",
    "\n",
    "# inputs.invoke({\"question\": \"what do bears like to eat?\"})"
   ]
  },
  {
   "cell_type": "code",
   "execution_count": null,
   "metadata": {},
   "outputs": [],
   "source": []
  }
 ],
 "metadata": {
  "kernelspec": {
   "display_name": "Python 3",
   "language": "python",
   "name": "python3"
  },
  "language_info": {
   "codemirror_mode": {
    "name": "ipython",
    "version": 3
   },
   "file_extension": ".py",
   "mimetype": "text/x-python",
   "name": "python",
   "nbconvert_exporter": "python",
   "pygments_lexer": "ipython3",
   "version": "3.9.9"
  }
 },
 "nbformat": 4,
 "nbformat_minor": 2
}
